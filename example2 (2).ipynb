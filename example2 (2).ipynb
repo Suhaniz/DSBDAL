{
 "cells": [
  {
   "cell_type": "code",
   "execution_count": 12,
   "id": "03dd0144-6381-4235-b505-5fef08018320",
   "metadata": {},
   "outputs": [
    {
     "name": "stdout",
     "output_type": "stream",
     "text": [
      "Requirement already satisfied: numpy in c:\\users\\hp\\appdata\\local\\programs\\python\\python313\\lib\\site-packages (2.2.2)\n",
      "Note: you may need to restart the kernel to use updated packages.\n"
     ]
    },
    {
     "name": "stderr",
     "output_type": "stream",
     "text": [
      "\n",
      "[notice] A new release of pip is available: 24.3.1 -> 25.0.1\n",
      "[notice] To update, run: python.exe -m pip install --upgrade pip\n"
     ]
    }
   ],
   "source": [
    "pip install numpy"
   ]
  },
  {
   "cell_type": "code",
   "execution_count": 13,
   "id": "a2e77e15-73d9-4b5f-9c94-8fbb4756652f",
   "metadata": {},
   "outputs": [],
   "source": [
    "import numpy as np"
   ]
  },
  {
   "cell_type": "code",
   "execution_count": 14,
   "id": "3671f1fe-8394-4bcb-90f6-724cc9d7c018",
   "metadata": {},
   "outputs": [],
   "source": [
    "scores = np.array([\n",
    "    [85, 90, 78, 92, 88],  # Student 1\n",
    "    [72, 75, 80, 68, 74],  # Student 2\n",
    "    [95, 88, 92, 96, 90],  # Student 3\n",
    "    [60, 65, 70, 58, 62],  # Student 4\n",
    "    [88, 84, 86, 89, 87]   # Student 5\n",
    "])"
   ]
  },
  {
   "cell_type": "code",
   "execution_count": 16,
   "id": "6aa59179-238f-42d9-81cd-f6d2ea6a5368",
   "metadata": {},
   "outputs": [
    {
     "name": "stdout",
     "output_type": "stream",
     "text": [
      "Student 3's scores: [95 88 92 96 90]\n"
     ]
    }
   ],
   "source": [
    "# 1. Retrieve the scores of Student 3 for all subjects\n",
    "student_3_scores = scores[2]\n",
    "print(f\"Student 3's scores: {student_3_scores}\")"
   ]
  },
  {
   "cell_type": "code",
   "execution_count": 17,
   "id": "6e0a27fd-33b7-4ee9-b41e-031b025d81df",
   "metadata": {},
   "outputs": [
    {
     "name": "stdout",
     "output_type": "stream",
     "text": [
      "Scores for Subject 2 across all students: [90 75 88 65 84]\n"
     ]
    }
   ],
   "source": [
    "# 2. Retrieve the scores for Subject 2 (column 2) across all students\n",
    "subject_2_scores = scores[:, 1]\n",
    "print(f\"Scores for Subject 2 across all students: {subject_2_scores}\")"
   ]
  },
  {
   "cell_type": "code",
   "execution_count": 18,
   "id": "fe85a8ae-94f8-4b8a-93da-1e3d1d63d1c7",
   "metadata": {},
   "outputs": [
    {
     "name": "stdout",
     "output_type": "stream",
     "text": [
      "First 3 students' scores for first 2 subjects: \n",
      "[[85 90]\n",
      " [72 75]\n",
      " [95 88]]\n"
     ]
    }
   ],
   "source": [
    "# 3. Extract the scores of the first 3 students for the first 2 subjects\n",
    "first_3_students_first_2_subjects = scores[:3, :2]\n",
    "print(f\"First 3 students' scores for first 2 subjects: \\n{first_3_students_first_2_subjects}\")"
   ]
  },
  {
   "cell_type": "code",
   "execution_count": 19,
   "id": "983fbd08-158c-4def-86f1-9e23f09246c3",
   "metadata": {},
   "outputs": [
    {
     "name": "stdout",
     "output_type": "stream",
     "text": [
      "Last 2 students' scores for last 3 subjects: \n",
      "[[70 58 62]\n",
      " [86 89 87]]\n"
     ]
    }
   ],
   "source": [
    "# 4. Extract the scores of the last 2 students for the last 3 subjects\n",
    "last_2_students_last_3_subjects = scores[3:, -3:]\n",
    "print(f\"Last 2 students' scores for last 3 subjects: \\n{last_2_students_last_3_subjects}\")"
   ]
  },
  {
   "cell_type": "code",
   "execution_count": 20,
   "id": "5c5d84f2-1f99-4cfc-a56e-584ec6d28143",
   "metadata": {},
   "outputs": [
    {
     "name": "stdout",
     "output_type": "stream",
     "text": [
      "Scores with bonus marks: \n",
      "[[ 90  95  83  97  93]\n",
      " [ 77  80  85  73  79]\n",
      " [100  93  97 101  95]\n",
      " [ 65  70  75  63  67]\n",
      " [ 93  89  91  94  92]]\n"
     ]
    }
   ],
   "source": [
    "# 5. Add 5 bonus marks to all scores\n",
    "scores_with_bonus = scores + 5\n",
    "print(f\"Scores with bonus marks: \\n{scores_with_bonus}\")"
   ]
  },
  {
   "cell_type": "code",
   "execution_count": 21,
   "id": "cf8aec0a-1f7e-40c2-8cc5-e5cb36f56d9b",
   "metadata": {},
   "outputs": [
    {
     "name": "stdout",
     "output_type": "stream",
     "text": [
      "Scores with 10 marks subtracted from Subject 4: \n",
      "[[ 90  95  83  87  93]\n",
      " [ 77  80  85  63  79]\n",
      " [100  93  97  91  95]\n",
      " [ 65  70  75  53  67]\n",
      " [ 93  89  91  84  92]]\n"
     ]
    }
   ],
   "source": [
    "# 6. Subtract 10 marks from scores of Subject 4 for all students\n",
    "scores_with_bonus[:, 3] -= 10\n",
    "print(f\"Scores with 10 marks subtracted from Subject 4: \\n{scores_with_bonus}\")"
   ]
  },
  {
   "cell_type": "code",
   "execution_count": 22,
   "id": "ce7e60dc-8acf-42ef-bdc3-6f77c0ddcb71",
   "metadata": {},
   "outputs": [
    {
     "name": "stdout",
     "output_type": "stream",
     "text": [
      "Percentage scores for each student: [86.6 73.8 92.2 63.  86.8]\n"
     ]
    }
   ],
   "source": [
    "# 7. Calculate the percentage scores of each student assuming each subject is out of 100\n",
    "percentages = np.sum(scores, axis=1) / (scores.shape[1] * 100) * 100\n",
    "print(f\"Percentage scores for each student: {percentages}\")"
   ]
  },
  {
   "cell_type": "code",
   "execution_count": 23,
   "id": "0dc5b232-be29-4e37-ab71-c685571cc686",
   "metadata": {},
   "outputs": [
    {
     "name": "stdout",
     "output_type": "stream",
     "text": [
      "Average score for each student: [86.6 73.8 92.2 63.  86.8]\n"
     ]
    }
   ],
   "source": [
    "# 8. Calculate the average score for each student across all subjects\n",
    "average_scores_per_student = np.mean(scores, axis=1)\n",
    "print(f\"Average score for each student: {average_scores_per_student}\")"
   ]
  },
  {
   "cell_type": "code",
   "execution_count": 24,
   "id": "880fb575-e7fb-49d7-ad25-df0e5969859f",
   "metadata": {},
   "outputs": [
    {
     "name": "stdout",
     "output_type": "stream",
     "text": [
      "Total marks scored by each student: [433 369 461 315 434]\n"
     ]
    }
   ],
   "source": [
    "# 9. Find the total marks scored by each student\n",
    "total_marks_per_student = np.sum(scores, axis=1)\n",
    "print(f\"Total marks scored by each student: {total_marks_per_student}\")"
   ]
  },
  {
   "cell_type": "code",
   "execution_count": 25,
   "id": "b64397aa-1fc9-4ec6-9094-dfb8b255c22e",
   "metadata": {},
   "outputs": [
    {
     "name": "stdout",
     "output_type": "stream",
     "text": [
      "Highest score in the entire array: 96\n"
     ]
    }
   ],
   "source": [
    "# 10. Identify the highest score in the entire array\n",
    "highest_score = np.max(scores)\n",
    "print(f\"Highest score in the entire array: {highest_score}\")"
   ]
  },
  {
   "cell_type": "code",
   "execution_count": 26,
   "id": "b42b8a30-cfa4-44a1-a1b0-41636abebecc",
   "metadata": {},
   "outputs": [
    {
     "name": "stdout",
     "output_type": "stream",
     "text": [
      "Average score for each subject: [80.  80.4 81.2 80.6 80.2]\n"
     ]
    }
   ],
   "source": [
    "# 11. Determine the average score for each subject\n",
    "average_scores_per_subject = np.mean(scores, axis=0)\n",
    "print(f\"Average score for each subject: {average_scores_per_subject}\")"
   ]
  },
  {
   "cell_type": "code",
   "execution_count": 27,
   "id": "4a1c5f79-0823-4974-bec6-65add64b6489",
   "metadata": {},
   "outputs": [
    {
     "name": "stdout",
     "output_type": "stream",
     "text": [
      "Student with the lowest average score: Student 4\n"
     ]
    }
   ],
   "source": [
    "# 12. Find the student with the lowest average score\n",
    "lowest_avg_score_student = np.argmin(average_scores_per_student)\n",
    "print(f\"Student with the lowest average score: Student {lowest_avg_score_student + 1}\")"
   ]
  },
  {
   "cell_type": "code",
   "execution_count": null,
   "id": "d967122b-69c1-4040-8e3d-a64f9825d2fe",
   "metadata": {},
   "outputs": [],
   "source": []
  }
 ],
 "metadata": {
  "kernelspec": {
   "display_name": "Python 3 (ipykernel)",
   "language": "python",
   "name": "python3"
  },
  "language_info": {
   "codemirror_mode": {
    "name": "ipython",
    "version": 3
   },
   "file_extension": ".py",
   "mimetype": "text/x-python",
   "name": "python",
   "nbconvert_exporter": "python",
   "pygments_lexer": "ipython3",
   "version": "3.13.2"
  }
 },
 "nbformat": 4,
 "nbformat_minor": 5
}
