{
 "cells": [
  {
   "cell_type": "code",
   "execution_count": 1,
   "id": "fea7c64a-bb87-42e6-8ab8-3efcec04321d",
   "metadata": {},
   "outputs": [],
   "source": [
    "import nltk"
   ]
  },
  {
   "cell_type": "code",
   "execution_count": 2,
   "id": "95175cff-0f12-4582-b887-c5a459448a00",
   "metadata": {},
   "outputs": [
    {
     "name": "stderr",
     "output_type": "stream",
     "text": [
      "[nltk_data] Downloading package punkt to\n",
      "[nltk_data]     C:\\Users\\hp\\AppData\\Roaming\\nltk_data...\n",
      "[nltk_data]   Package punkt is already up-to-date!\n",
      "[nltk_data] Downloading package stopwords to\n",
      "[nltk_data]     C:\\Users\\hp\\AppData\\Roaming\\nltk_data...\n",
      "[nltk_data]   Package stopwords is already up-to-date!\n",
      "[nltk_data] Downloading package wordnet to\n",
      "[nltk_data]     C:\\Users\\hp\\AppData\\Roaming\\nltk_data...\n",
      "[nltk_data]   Package wordnet is already up-to-date!\n",
      "[nltk_data] Downloading package averaged_perceptron_tagger to\n",
      "[nltk_data]     C:\\Users\\hp\\AppData\\Roaming\\nltk_data...\n",
      "[nltk_data]   Package averaged_perceptron_tagger is already up-to-\n",
      "[nltk_data]       date!\n"
     ]
    },
    {
     "data": {
      "text/plain": [
       "True"
      ]
     },
     "execution_count": 2,
     "metadata": {},
     "output_type": "execute_result"
    }
   ],
   "source": [
    "nltk.download('punkt')\n",
    "nltk.download('stopwords')\n",
    "nltk.download('wordnet')\n",
    "nltk.download('averaged_perceptron_tagger')"
   ]
  },
  {
   "cell_type": "code",
   "execution_count": 3,
   "id": "bd843f2f-ff5c-4f07-8818-4552e72b201e",
   "metadata": {},
   "outputs": [],
   "source": [
    "#Initialize the text\n",
    "text = \"Hey Suhani, I just finished training a machine learning model on our dataset. The accuracy improved to 92% after hyperparameter tuning! Let’s discuss the next steps in our meeting tomorrow.\""
   ]
  },
  {
   "cell_type": "code",
   "execution_count": 4,
   "id": "ec3a7f09-412c-496e-8435-b9300516e0f3",
   "metadata": {},
   "outputs": [
    {
     "name": "stdout",
     "output_type": "stream",
     "text": [
      "['Hey Suhani, I just finished training a machine learning model on our dataset.', 'The accuracy improved to 92% after hyperparameter tuning!', 'Let’s discuss the next steps in our meeting tomorrow.']\n"
     ]
    }
   ],
   "source": [
    "from nltk.tokenize import sent_tokenize\n",
    "tokenized_text= sent_tokenize(text)\n",
    "print(tokenized_text)"
   ]
  },
  {
   "cell_type": "code",
   "execution_count": 5,
   "id": "feebb50a-2bb0-44c2-becd-edf80e22820b",
   "metadata": {},
   "outputs": [
    {
     "name": "stdout",
     "output_type": "stream",
     "text": [
      "['Hey', 'Suhani', ',', 'I', 'just', 'finished', 'training', 'a', 'machine', 'learning', 'model', 'on', 'our', 'dataset', '.', 'The', 'accuracy', 'improved', 'to', '92', '%', 'after', 'hyperparameter', 'tuning', '!', 'Let', '’', 's', 'discuss', 'the', 'next', 'steps', 'in', 'our', 'meeting', 'tomorrow', '.']\n"
     ]
    }
   ],
   "source": [
    "from nltk.tokenize import word_tokenize\n",
    "tokenized_word=word_tokenize(text)\n",
    "print(tokenized_word)"
   ]
  },
  {
   "cell_type": "code",
   "execution_count": 7,
   "id": "f4415b08-b9ef-4360-b9a8-7f176223b8f2",
   "metadata": {},
   "outputs": [
    {
     "name": "stdout",
     "output_type": "stream",
     "text": [
      "{'their', 'very', 'with', 'of', 'now', 'were', 'couldn', \"didn't\", \"i'm\", 'll', 'which', 'before', 'own', 'from', 'under', 'about', 'above', 'yours', 'against', 'them', 'our', 'him', 're', 't', 'more', 'or', 'haven', 'in', 'y', 've', 'into', 'but', 'being', 'until', 'themselves', 'how', \"you'll\", 'both', \"you've\", 'd', \"hadn't\", 'hadn', 'do', 'he', \"we're\", 'whom', 'hasn', 'nor', 'weren', 'wouldn', 'just', 'on', 'again', \"they're\", 'the', 'is', 'should', 'are', 'during', 'for', 'each', 'hers', 'been', \"he'll\", 'while', \"we'll\", \"i'd\", 'does', 'down', 'herself', 'all', 'because', \"she's\", 'myself', 'they', \"weren't\", \"you're\", 'and', \"needn't\", 'between', 'don', 'as', 'her', 'who', 's', 'aren', 'those', 'will', 'this', 'm', 'ma', 'itself', \"don't\", 'i', 'out', 'by', \"he's\", 'doesn', \"he'd\", 'yourself', \"should've\", 'there', 'off', 'its', 'once', \"shan't\", 'so', \"isn't\", 'some', 'what', 'that', 'such', 'when', 'if', 'his', \"haven't\", \"i'll\", \"it's\", 'wasn', 'needn', 'was', 'didn', 'at', 'yourselves', 'ourselves', \"you'd\", 'not', \"it'll\", 'most', 'up', 'these', 'won', 'your', \"mightn't\", 'mustn', 'himself', 'few', 'having', \"she'd\", 'any', 'no', 'than', 'below', 'ours', \"wouldn't\", 'only', 'through', \"shouldn't\", \"that'll\", 'where', \"we've\", \"i've\", 'theirs', \"hasn't\", \"couldn't\", \"doesn't\", 'ain', 'o', 'mightn', 'too', 'an', \"she'll\", \"it'd\", \"they've\", 'shan', 'am', \"aren't\", \"they'd\", 'further', 'be', \"mustn't\", 'me', 'here', 'you', 'has', 'we', 'a', 'other', 'isn', 'had', 'to', 'same', 'she', \"we'd\", \"they'll\", 'after', 'it', \"wasn't\", 'did', 'doing', 'have', 'over', 'then', 'my', 'can', \"won't\", 'why', 'shouldn'}\n",
      "Tokenized Sentence: ['data', 'science', 'is', 'an', 'interdisciplinary', 'field', 'that', 'uses', 'scientific', 'methods', 'processes', 'and', 'algorithms', 'to', 'extract', 'knowledge', 'from', 'data']\n",
      "Filterd Sentence: ['data', 'science', 'interdisciplinary', 'field', 'uses', 'scientific', 'methods', 'processes', 'algorithms', 'extract', 'knowledge', 'data']\n"
     ]
    }
   ],
   "source": [
    "import re\n",
    "from nltk.corpus import stopwords\n",
    "stop_words=set(stopwords.words(\"english\"))\n",
    "print(stop_words)\n",
    "text= \"Data science is an interdisciplinary field that uses scientific methods, processes, and algorithms to extract knowledge from data.\"\n",
    "text= re.sub('[^a-zA-Z]', ' ',text)\n",
    "tokens = word_tokenize(text.lower())\n",
    "filtered_text=[]\n",
    "for w in tokens:\n",
    "    if w not in stop_words:\n",
    "        filtered_text.append(w)\n",
    "print(\"Tokenized Sentence:\",tokens)\n",
    "print(\"Filterd Sentence:\",filtered_text)"
   ]
  },
  {
   "cell_type": "code",
   "execution_count": 8,
   "id": "57b4ae82-85b4-497e-a03b-5e2ac2061334",
   "metadata": {},
   "outputs": [
    {
     "name": "stdout",
     "output_type": "stream",
     "text": [
      "play\n"
     ]
    }
   ],
   "source": [
    "from nltk.stem import PorterStemmer\n",
    "ps = PorterStemmer()\n",
    "e_words= [\"play\",\"playing\",\"played\",\"plays\"]\n",
    "for w in e_words:\n",
    "    rootWord=ps.stem(w)\n",
    "print(rootWord)"
   ]
  },
  {
   "cell_type": "code",
   "execution_count": 9,
   "id": "5b2ca1f3-9183-4c96-b37d-f986aff5e885",
   "metadata": {},
   "outputs": [
    {
     "name": "stdout",
     "output_type": "stream",
     "text": [
      "Lemma for studies is study\n",
      "Lemma for studying is studying\n",
      "Lemma for cries is cry\n",
      "Lemma for cry is cry\n"
     ]
    }
   ],
   "source": [
    "from nltk.stem import WordNetLemmatizer\n",
    "from nltk.tokenize import word_tokenize\n",
    "wordnet_lemmatizer = WordNetLemmatizer()\n",
    "text = \"studies studying cries cry\"\n",
    "tokenization = word_tokenize(text)\n",
    "for w in tokenization:\n",
    "    print(\"Lemma for {} is {}\".format(w, wordnet_lemmatizer.lemmatize(w)))"
   ]
  },
  {
   "cell_type": "code",
   "execution_count": 10,
   "id": "a5386172-922c-447c-9e82-10bea8af2576",
   "metadata": {},
   "outputs": [
    {
     "name": "stdout",
     "output_type": "stream",
     "text": [
      "[('The', 'DT')]\n",
      "[('pink', 'NN')]\n",
      "[('sweater', 'NN')]\n",
      "[('fit', 'NN')]\n",
      "[('her', 'PRP$')]\n",
      "[('perfectly', 'RB')]\n"
     ]
    }
   ],
   "source": [
    "import nltk\n",
    "from nltk.tokenize import word_tokenize\n",
    "data = \"The pink sweater fit her perfectly\"\n",
    "words = word_tokenize(data)\n",
    "for word in words:\n",
    "    print(nltk.pos_tag([word]))"
   ]
  },
  {
   "cell_type": "code",
   "execution_count": null,
   "id": "2baadf2c-5638-45f7-a9e4-b85f73e78ae6",
   "metadata": {},
   "outputs": [],
   "source": []
  }
 ],
 "metadata": {
  "kernelspec": {
   "display_name": "Python 3 (ipykernel)",
   "language": "python",
   "name": "python3"
  },
  "language_info": {
   "codemirror_mode": {
    "name": "ipython",
    "version": 3
   },
   "file_extension": ".py",
   "mimetype": "text/x-python",
   "name": "python",
   "nbconvert_exporter": "python",
   "pygments_lexer": "ipython3",
   "version": "3.12.7"
  }
 },
 "nbformat": 4,
 "nbformat_minor": 5
}
