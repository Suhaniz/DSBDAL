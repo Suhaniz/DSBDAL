{
 "cells": [
  {
   "cell_type": "code",
   "execution_count": 1,
   "id": "b58d5232-d06c-454f-b684-6d6c107e5dce",
   "metadata": {},
   "outputs": [
    {
     "name": "stdout",
     "output_type": "stream",
     "text": [
      "Collecting numpyNote: you may need to restart the kernel to use updated packages.\n"
     ]
    },
    {
     "name": "stderr",
     "output_type": "stream",
     "text": [
      "\n",
      "[notice] A new release of pip is available: 24.3.1 -> 25.0\n",
      "[notice] To update, run: python.exe -m pip install --upgrade pip\n"
     ]
    },
    {
     "name": "stdout",
     "output_type": "stream",
     "text": [
      "\n",
      "  Downloading numpy-2.2.2-cp313-cp313-win_amd64.whl.metadata (60 kB)\n",
      "Downloading numpy-2.2.2-cp313-cp313-win_amd64.whl (12.6 MB)\n",
      "   ---------------------------------------- 0.0/12.6 MB ? eta -:--:--\n",
      "   ---------------------------------------- 0.0/12.6 MB ? eta -:--:--\n",
      "    --------------------------------------- 0.3/12.6 MB ? eta -:--:--\n",
      "   - -------------------------------------- 0.5/12.6 MB 1.4 MB/s eta 0:00:09\n",
      "   -- ------------------------------------- 0.8/12.6 MB 1.3 MB/s eta 0:00:09\n",
      "   -- ------------------------------------- 0.8/12.6 MB 1.3 MB/s eta 0:00:09\n",
      "   --- ------------------------------------ 1.0/12.6 MB 867.9 kB/s eta 0:00:14\n",
      "   ---- ----------------------------------- 1.3/12.6 MB 910.8 kB/s eta 0:00:13\n",
      "   ----- ---------------------------------- 1.8/12.6 MB 1.1 MB/s eta 0:00:10\n",
      "   ----- ---------------------------------- 1.8/12.6 MB 1.1 MB/s eta 0:00:10\n",
      "   ------- -------------------------------- 2.4/12.6 MB 1.2 MB/s eta 0:00:09\n",
      "   --------- ------------------------------ 2.9/12.6 MB 1.3 MB/s eta 0:00:08\n",
      "   ---------- ----------------------------- 3.4/12.6 MB 1.4 MB/s eta 0:00:07\n",
      "   ------------ --------------------------- 3.9/12.6 MB 1.5 MB/s eta 0:00:06\n",
      "   ------------- -------------------------- 4.2/12.6 MB 1.5 MB/s eta 0:00:06\n",
      "   ------------- -------------------------- 4.2/12.6 MB 1.5 MB/s eta 0:00:06\n",
      "   ------------- -------------------------- 4.2/12.6 MB 1.5 MB/s eta 0:00:06\n",
      "   ------------- -------------------------- 4.2/12.6 MB 1.5 MB/s eta 0:00:06\n",
      "   ------------- -------------------------- 4.2/12.6 MB 1.5 MB/s eta 0:00:06\n",
      "   ------------- -------------------------- 4.2/12.6 MB 1.5 MB/s eta 0:00:06\n",
      "   ------------- -------------------------- 4.2/12.6 MB 1.5 MB/s eta 0:00:06\n",
      "   ------------- -------------------------- 4.2/12.6 MB 1.5 MB/s eta 0:00:06\n",
      "   -------------- ------------------------- 4.5/12.6 MB 962.5 kB/s eta 0:00:09\n",
      "   -------------- ------------------------- 4.5/12.6 MB 962.5 kB/s eta 0:00:09\n",
      "   -------------- ------------------------- 4.5/12.6 MB 962.5 kB/s eta 0:00:09\n",
      "   -------------- ------------------------- 4.5/12.6 MB 962.5 kB/s eta 0:00:09\n",
      "   -------------- ------------------------- 4.7/12.6 MB 859.4 kB/s eta 0:00:10\n",
      "   -------------- ------------------------- 4.7/12.6 MB 859.4 kB/s eta 0:00:10\n",
      "   --------------- ------------------------ 5.0/12.6 MB 834.0 kB/s eta 0:00:10\n",
      "   ---------------- ----------------------- 5.2/12.6 MB 861.9 kB/s eta 0:00:09\n",
      "   ------------------ --------------------- 5.8/12.6 MB 909.4 kB/s eta 0:00:08\n",
      "   ------------------- -------------------- 6.0/12.6 MB 924.0 kB/s eta 0:00:08\n",
      "   -------------------- ------------------- 6.6/12.6 MB 962.5 kB/s eta 0:00:07\n",
      "   --------------------- ------------------ 6.8/12.6 MB 980.5 kB/s eta 0:00:06\n",
      "   ----------------------- ---------------- 7.3/12.6 MB 1.0 MB/s eta 0:00:06\n",
      "   ------------------------ --------------- 7.9/12.6 MB 1.1 MB/s eta 0:00:05\n",
      "   -------------------------- ------------- 8.4/12.6 MB 1.1 MB/s eta 0:00:04\n",
      "   ---------------------------- ----------- 8.9/12.6 MB 1.1 MB/s eta 0:00:04\n",
      "   ---------------------------- ----------- 8.9/12.6 MB 1.1 MB/s eta 0:00:04\n",
      "   ---------------------------- ----------- 8.9/12.6 MB 1.1 MB/s eta 0:00:04\n",
      "   ---------------------------- ----------- 8.9/12.6 MB 1.1 MB/s eta 0:00:04\n",
      "   ---------------------------- ----------- 8.9/12.6 MB 1.1 MB/s eta 0:00:04\n",
      "   ---------------------------- ----------- 8.9/12.6 MB 1.1 MB/s eta 0:00:04\n",
      "   ----------------------------- ---------- 9.2/12.6 MB 1.0 MB/s eta 0:00:04\n",
      "   ----------------------------- ---------- 9.2/12.6 MB 1.0 MB/s eta 0:00:04\n",
      "   ----------------------------- ---------- 9.4/12.6 MB 996.5 kB/s eta 0:00:04\n",
      "   ------------------------------- -------- 10.0/12.6 MB 1.0 MB/s eta 0:00:03\n",
      "   -------------------------------- ------- 10.2/12.6 MB 1.0 MB/s eta 0:00:03\n",
      "   --------------------------------- ------ 10.5/12.6 MB 1.0 MB/s eta 0:00:03\n",
      "   ---------------------------------- ----- 11.0/12.6 MB 1.1 MB/s eta 0:00:02\n",
      "   ------------------------------------ --- 11.5/12.6 MB 1.1 MB/s eta 0:00:01\n",
      "   -------------------------------------- - 12.1/12.6 MB 1.1 MB/s eta 0:00:01\n",
      "   ---------------------------------------  12.3/12.6 MB 1.1 MB/s eta 0:00:01\n",
      "   ---------------------------------------- 12.6/12.6 MB 1.1 MB/s eta 0:00:00\n",
      "Installing collected packages: numpy\n",
      "Successfully installed numpy-2.2.2\n"
     ]
    }
   ],
   "source": [
    "pip install numpy"
   ]
  },
  {
   "cell_type": "code",
   "execution_count": 2,
   "id": "87972879-246b-42f6-9713-d7b3878d5975",
   "metadata": {},
   "outputs": [],
   "source": [
    "import numpy as np"
   ]
  },
  {
   "cell_type": "code",
   "execution_count": 3,
   "id": "c21326eb-1152-4af3-a2cf-d98a581b1799",
   "metadata": {},
   "outputs": [
    {
     "name": "stdout",
     "output_type": "stream",
     "text": [
      "[100 200 150 300 250 400 350]\n"
     ]
    }
   ],
   "source": [
    "sales = np.array([100, 200, 150, 300, 250, 400, 350])\n",
    "print(sales)"
   ]
  },
  {
   "cell_type": "code",
   "execution_count": 4,
   "id": "b8a1c430-0adf-4a93-bd9d-eb6881abfd1c",
   "metadata": {},
   "outputs": [
    {
     "name": "stdout",
     "output_type": "stream",
     "text": [
      "[10 40 90]\n"
     ]
    }
   ],
   "source": [
    "prices_store_1 = np.array([10, 20, 30])\n",
    "prices_store_2 = np.array([1, 2, 3])\n",
    "result = prices_store_1 * prices_store_2\n",
    "print(result)"
   ]
  },
  {
   "cell_type": "code",
   "execution_count": 5,
   "id": "add5158d-53a4-44fa-b97c-bc61f5584ea8",
   "metadata": {},
   "outputs": [
    {
     "name": "stdout",
     "output_type": "stream",
     "text": [
      "[300 400 500 600]\n"
     ]
    }
   ],
   "source": [
    "sales_january = np.array([300, 400])\n",
    "sales_february = np.array([500, 600])\n",
    "combined_sales = np.concatenate((sales_january, sales_february))\n",
    "print(combined_sales)"
   ]
  },
  {
   "cell_type": "code",
   "execution_count": 6,
   "id": "ac60c6ad-167e-4f0b-95ff-b6fd0f47bc01",
   "metadata": {},
   "outputs": [
    {
     "name": "stdout",
     "output_type": "stream",
     "text": [
      "[80 90 85 95]\n"
     ]
    }
   ],
   "source": [
    "scores = np.array([[80, 90], [85, 95]])\n",
    "flattened_scores = scores.flatten()\n",
    "print(flattened_scores)"
   ]
  },
  {
   "cell_type": "code",
   "execution_count": 7,
   "id": "f8051079-a9ae-4444-af1c-1be1852250b3",
   "metadata": {},
   "outputs": [
    {
     "name": "stdout",
     "output_type": "stream",
     "text": [
      "[[1 2 3]\n",
      " [4 5 6]]\n"
     ]
    }
   ],
   "source": [
    "data = np.array([1, 2, 3, 4, 5, 6])\n",
    "reshaped_data = data.reshape(2, 3)\n",
    "print(reshaped_data)\n"
   ]
  },
  {
   "cell_type": "code",
   "execution_count": null,
   "id": "f0e082a4-3794-4b97-b3db-3d51062ffae9",
   "metadata": {},
   "outputs": [],
   "source": []
  }
 ],
 "metadata": {
  "kernelspec": {
   "display_name": "Python 3 (ipykernel)",
   "language": "python",
   "name": "python3"
  },
  "language_info": {
   "codemirror_mode": {
    "name": "ipython",
    "version": 3
   },
   "file_extension": ".py",
   "mimetype": "text/x-python",
   "name": "python",
   "nbconvert_exporter": "python",
   "pygments_lexer": "ipython3",
   "version": "3.13.2"
  }
 },
 "nbformat": 4,
 "nbformat_minor": 5
}
