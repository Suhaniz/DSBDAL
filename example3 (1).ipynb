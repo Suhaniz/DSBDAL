{
 "cells": [
  {
   "cell_type": "code",
   "execution_count": 6,
   "id": "c3725d28-fdfd-462c-ab69-c559d95d0ab8",
   "metadata": {},
   "outputs": [
    {
     "name": "stdout",
     "output_type": "stream",
     "text": [
      "Requirement already satisfied: pandas in c:\\users\\hp\\appdata\\local\\programs\\python\\python313\\lib\\site-packages (2.2.3)\n",
      "Requirement already satisfied: numpy>=1.26.0 in c:\\users\\hp\\appdata\\local\\programs\\python\\python313\\lib\\site-packages (from pandas) (2.2.2)\n",
      "Requirement already satisfied: python-dateutil>=2.8.2 in c:\\users\\hp\\appdata\\local\\programs\\python\\python313\\lib\\site-packages (from pandas) (2.9.0.post0)\n",
      "Requirement already satisfied: pytz>=2020.1 in c:\\users\\hp\\appdata\\local\\programs\\python\\python313\\lib\\site-packages (from pandas) (2025.1)\n",
      "Requirement already satisfied: tzdata>=2022.7 in c:\\users\\hp\\appdata\\local\\programs\\python\\python313\\lib\\site-packages (from pandas) (2025.1)\n",
      "Requirement already satisfied: six>=1.5 in c:\\users\\hp\\appdata\\local\\programs\\python\\python313\\lib\\site-packages (from python-dateutil>=2.8.2->pandas) (1.17.0)\n",
      "Note: you may need to restart the kernel to use updated packages.\n"
     ]
    },
    {
     "name": "stderr",
     "output_type": "stream",
     "text": [
      "\n",
      "[notice] A new release of pip is available: 24.3.1 -> 25.0.1\n",
      "[notice] To update, run: python.exe -m pip install --upgrade pip\n"
     ]
    }
   ],
   "source": [
    "pip install pandas"
   ]
  },
  {
   "cell_type": "code",
   "execution_count": 7,
   "id": "fce96486-ff88-4191-9d86-4b22d945ff42",
   "metadata": {},
   "outputs": [],
   "source": [
    "import pandas as pd"
   ]
  },
  {
   "cell_type": "code",
   "execution_count": 8,
   "id": "a61fb7b6-6da4-4aa3-8eca-b38c7953e5c3",
   "metadata": {},
   "outputs": [],
   "source": [
    "data = {\n",
    "    \"Math\": [85, 78, 92, 60, 74, 88],\n",
    "    \"Science\": [80, 82, 89, 65, 70, 90],\n",
    "    \"English\": [75, 85, 78, 55, 72, 88],\n",
    "    \"History\": [70, 75, 80, 50, 68, 82]\n",
    "}"
   ]
  },
  {
   "cell_type": "code",
   "execution_count": 9,
   "id": "e7195361-9aa2-44d5-a4bf-2ad34ab4b6a5",
   "metadata": {},
   "outputs": [],
   "source": [
    "students = [\"Student 1\", \"Student 2\", \"Student 3\", \"Student 4\", \"Student 5\", \"Student 6\"]\n"
   ]
  },
  {
   "cell_type": "code",
   "execution_count": 10,
   "id": "c7038fae-1253-42ae-9fc0-82575eaa52cf",
   "metadata": {},
   "outputs": [],
   "source": [
    "exam_scores = pd.DataFrame(data, index=students)"
   ]
  },
  {
   "cell_type": "code",
   "execution_count": 11,
   "id": "3d164436-dd60-436e-8281-11c124877501",
   "metadata": {},
   "outputs": [
    {
     "name": "stdout",
     "output_type": "stream",
     "text": [
      "           Math  Science  English  History\n",
      "Student 1    85       80       75       70\n",
      "Student 2    78       82       85       75\n",
      "Student 3    92       89       78       80\n"
     ]
    }
   ],
   "source": [
    "# 1. Display the first three rows of the exam_scores DataFrame\n",
    "print(exam_scores.head(3))\n"
   ]
  },
  {
   "cell_type": "code",
   "execution_count": 12,
   "id": "5c658f1a-0378-4e01-a1e1-0ebed211ab44",
   "metadata": {},
   "outputs": [
    {
     "name": "stdout",
     "output_type": "stream",
     "text": [
      "Number of students: 6, Number of subjects: 4\n"
     ]
    }
   ],
   "source": [
    "# 2. Get the total number of students and subjects recorded in the DataFrame\n",
    "num_students, num_subjects = exam_scores.shape\n",
    "print(f\"Number of students: {num_students}, Number of subjects: {num_subjects}\")"
   ]
  },
  {
   "cell_type": "code",
   "execution_count": 13,
   "id": "4134b058-ae05-44d5-a99d-f97d488e1d95",
   "metadata": {},
   "outputs": [
    {
     "name": "stdout",
     "output_type": "stream",
     "text": [
      "Subjects: ['Math', 'Science', 'English', 'History']\n",
      "Students: ['Student 1', 'Student 2', 'Student 3', 'Student 4', 'Student 5', 'Student 6']\n"
     ]
    }
   ],
   "source": [
    "# 3. List all subject names and student names\n",
    "subject_names = exam_scores.columns.tolist()\n",
    "student_names = exam_scores.index.tolist()\n",
    "print(f\"Subjects: {subject_names}\")\n",
    "print(f\"Students: {student_names}\")\n"
   ]
  },
  {
   "cell_type": "code",
   "execution_count": 14,
   "id": "1d41640c-50a3-429f-8c29-888c6207f47f",
   "metadata": {},
   "outputs": [
    {
     "name": "stdout",
     "output_type": "stream",
     "text": [
      "Math       int64\n",
      "Science    int64\n",
      "English    int64\n",
      "History    int64\n",
      "dtype: object\n"
     ]
    }
   ],
   "source": [
    "# 4. Display the data type of each column in the DataFrame\n",
    "print(exam_scores.dtypes)\n"
   ]
  },
  {
   "cell_type": "code",
   "execution_count": 15,
   "id": "e395bcb4-472d-461c-b86c-7f0d13a6266f",
   "metadata": {},
   "outputs": [
    {
     "name": "stdout",
     "output_type": "stream",
     "text": [
      "Math       0\n",
      "Science    0\n",
      "English    0\n",
      "History    0\n",
      "dtype: int64\n"
     ]
    }
   ],
   "source": [
    "# 5. Check if there are any missing values in the DataFrame\n",
    "print(exam_scores.isnull().sum())"
   ]
  },
  {
   "cell_type": "code",
   "execution_count": 16,
   "id": "707636a1-bcb6-4a4a-b63c-e45069511a3d",
   "metadata": {},
   "outputs": [
    {
     "name": "stdout",
     "output_type": "stream",
     "text": [
      "Student 3's scores: Math       92\n",
      "Science    89\n",
      "English    78\n",
      "History    80\n",
      "Name: Student 3, dtype: int64\n"
     ]
    }
   ],
   "source": [
    "# 6. Retrieve the scores of \"Student 3\" in all subjects\n",
    "student_3_scores = exam_scores.loc[\"Student 3\"]\n",
    "print(f\"Student 3's scores: {student_3_scores}\")"
   ]
  },
  {
   "cell_type": "code",
   "execution_count": 17,
   "id": "fc03d37a-191d-45df-81c4-36931b32dbc7",
   "metadata": {},
   "outputs": [
    {
     "name": "stdout",
     "output_type": "stream",
     "text": [
      "Math scores for all students: Student 1    85\n",
      "Student 2    78\n",
      "Student 3    92\n",
      "Student 4    60\n",
      "Student 5    74\n",
      "Student 6    88\n",
      "Name: Math, dtype: int64\n"
     ]
    }
   ],
   "source": [
    "# 7. Extract the scores of all students in \"Math\"\n",
    "math_scores = exam_scores[\"Math\"]\n",
    "print(f\"Math scores for all students: {math_scores}\")\n"
   ]
  },
  {
   "cell_type": "code",
   "execution_count": 18,
   "id": "2cd3e8ee-970c-47f9-a8e9-981a1dc980b7",
   "metadata": {},
   "outputs": [
    {
     "name": "stdout",
     "output_type": "stream",
     "text": [
      "Scores of Student 1 and Student 4 in Science and English:\n",
      "           Science  English\n",
      "Student 1       80       75\n",
      "Student 4       65       55\n"
     ]
    }
   ],
   "source": [
    "# 8. Retrieve the scores of \"Student 1\" and \"Student 4\" in \"Science\" and \"English\"\n",
    "selected_scores = exam_scores.loc[[\"Student 1\", \"Student 4\"], [\"Science\", \"English\"]]\n",
    "print(f\"Scores of Student 1 and Student 4 in Science and English:\\n{selected_scores}\")\n"
   ]
  },
  {
   "cell_type": "code",
   "execution_count": 19,
   "id": "a1bb23ad-38a9-4902-8ab0-1400aa78e41d",
   "metadata": {},
   "outputs": [
    {
     "name": "stdout",
     "output_type": "stream",
     "text": [
      "Scores of first 4 students in first 3 subjects:\n",
      "           Math  Science  English\n",
      "Student 1    85       80       75\n",
      "Student 2    78       82       85\n",
      "Student 3    92       89       78\n",
      "Student 4    60       65       55\n"
     ]
    }
   ],
   "source": [
    "# 9. Slice the DataFrame to get the first 4 students and the first 3 subjects\n",
    "sliced_data = exam_scores.iloc[:4, :3]\n",
    "print(f\"Scores of first 4 students in first 3 subjects:\\n{sliced_data}\")"
   ]
  },
  {
   "cell_type": "code",
   "execution_count": 20,
   "id": "ee6b915e-0af3-4453-9343-f2947e7713e2",
   "metadata": {},
   "outputs": [
    {
     "name": "stdout",
     "output_type": "stream",
     "text": [
      "Student 5's score in History: 68\n"
     ]
    }
   ],
   "source": [
    "# 10. Retrieve the score of \"Student 5\" in \"History\" using .loc\n",
    "student_5_history_score = exam_scores.loc[\"Student 5\", \"History\"]\n",
    "print(f\"Student 5's score in History: {student_5_history_score}\")\n"
   ]
  },
  {
   "cell_type": "code",
   "execution_count": 21,
   "id": "c70e68e4-e059-4a35-8aa7-69662601da54",
   "metadata": {},
   "outputs": [
    {
     "name": "stdout",
     "output_type": "stream",
     "text": [
      "Updated exam scores:\n",
      "           Math  Science  English  History\n",
      "Student 1    85       80       75       70\n",
      "Student 2    85       82       85       75\n",
      "Student 3    92       89       78       80\n",
      "Student 4    60       65       55       50\n",
      "Student 5    74       70       72       68\n",
      "Student 6    88       90       88       82\n"
     ]
    }
   ],
   "source": [
    "# 11. Update the score of \"Student 2\" in \"Math\" to 85\n",
    "exam_scores.loc[\"Student 2\", \"Math\"] = 85\n",
    "print(f\"Updated exam scores:\\n{exam_scores}\")\n"
   ]
  },
  {
   "cell_type": "code",
   "execution_count": 22,
   "id": "b6785a9c-d405-47f5-925c-1b89138da165",
   "metadata": {},
   "outputs": [
    {
     "name": "stdout",
     "output_type": "stream",
     "text": [
      "Exam scores after adding Student 7:\n",
      "           Math  Science  English  History\n",
      "Student 1    85       80       75       70\n",
      "Student 2    85       82       85       75\n",
      "Student 3    92       89       78       80\n",
      "Student 4    60       65       55       50\n",
      "Student 5    74       70       72       68\n",
      "Student 6    88       90       88       82\n",
      "Student 7    90       85       88       80\n"
     ]
    }
   ],
   "source": [
    "# 12. Add a new student, \"Student 7\", with scores [90, 85, 88, 80] for all subjects\n",
    "exam_scores.loc[\"Student 7\"] = [90, 85, 88, 80]\n",
    "print(f\"Exam scores after adding Student 7:\\n{exam_scores}\")"
   ]
  },
  {
   "cell_type": "code",
   "execution_count": 23,
   "id": "fcf785f5-630d-4d19-bc98-97df97d70e4c",
   "metadata": {},
   "outputs": [
    {
     "name": "stdout",
     "output_type": "stream",
     "text": [
      "Scores after adding 5 bonus marks:\n",
      "           Math  Science  English  History\n",
      "Student 1    90       85       80       75\n",
      "Student 2    90       87       90       80\n",
      "Student 3    97       94       83       85\n",
      "Student 4    65       70       60       55\n",
      "Student 5    79       75       77       73\n",
      "Student 6    93       95       93       87\n",
      "Student 7    95       90       93       85\n"
     ]
    }
   ],
   "source": [
    "# 13. Add 5 bonus marks to all students' scores\n",
    "exam_scores += 5\n",
    "print(f\"Scores after adding 5 bonus marks:\\n{exam_scores}\")"
   ]
  },
  {
   "cell_type": "code",
   "execution_count": 24,
   "id": "b398307d-2596-4104-8996-bee1fd00df26",
   "metadata": {},
   "outputs": [
    {
     "name": "stdout",
     "output_type": "stream",
     "text": [
      "Scores after deducting 3 marks from Student 4:\n",
      "           Math  Science  English  History\n",
      "Student 1    90       85       80       75\n",
      "Student 2    90       87       90       80\n",
      "Student 3    97       94       83       85\n",
      "Student 4    62       67       57       52\n",
      "Student 5    79       75       77       73\n",
      "Student 6    93       95       93       87\n",
      "Student 7    95       90       93       85\n"
     ]
    }
   ],
   "source": [
    "# 14. Deduct 3 marks from the scores of \"Student 4\" in all subjects\n",
    "exam_scores.loc[\"Student 4\"] -= 3\n",
    "print(f\"Scores after deducting 3 marks from Student 4:\\n{exam_scores}\")"
   ]
  },
  {
   "cell_type": "code",
   "execution_count": 25,
   "id": "a559d8bf-d7d8-4856-a101-7846a69efe4e",
   "metadata": {},
   "outputs": [
    {
     "name": "stdout",
     "output_type": "stream",
     "text": [
      "Percentage of marks obtained by each student:\n",
      "Student 1    82.50\n",
      "Student 2    86.75\n",
      "Student 3    89.75\n",
      "Student 4    59.50\n",
      "Student 5    76.00\n",
      "Student 6    92.00\n",
      "Student 7    90.75\n",
      "dtype: float64\n"
     ]
    }
   ],
   "source": [
    "# 15. Calculate the percentage of marks obtained by each student, assuming each subject has a maximum of 100 marks\n",
    "percentage = exam_scores.sum(axis=1) / (100 * num_subjects) * 100\n",
    "print(f\"Percentage of marks obtained by each student:\\n{percentage}\")"
   ]
  },
  {
   "cell_type": "code",
   "execution_count": 26,
   "id": "6ac69ba3-2869-4344-9a9d-77d7631ed5cc",
   "metadata": {},
   "outputs": [
    {
     "name": "stdout",
     "output_type": "stream",
     "text": [
      "Total marks scored by each student:\n",
      "Student 1    330\n",
      "Student 2    347\n",
      "Student 3    359\n",
      "Student 4    238\n",
      "Student 5    304\n",
      "Student 6    368\n",
      "Student 7    363\n",
      "dtype: int64\n"
     ]
    }
   ],
   "source": [
    "# 16. Calculate the total marks obtained by each student\n",
    "total_marks_per_student = exam_scores.sum(axis=1)\n",
    "print(f\"Total marks scored by each student:\\n{total_marks_per_student}\")"
   ]
  },
  {
   "cell_type": "code",
   "execution_count": 27,
   "id": "cce4c903-2193-43bb-857b-5529ba1e3f7b",
   "metadata": {},
   "outputs": [
    {
     "name": "stdout",
     "output_type": "stream",
     "text": [
      "Total marks scored in each subject:\n",
      "Math       606\n",
      "Science    593\n",
      "English    573\n",
      "History    537\n",
      "dtype: int64\n"
     ]
    }
   ],
   "source": [
    "# 17. Determine the total marks scored in each subject\n",
    "total_marks_per_subject = exam_scores.sum(axis=0)\n",
    "print(f\"Total marks scored in each subject:\\n{total_marks_per_subject}\")"
   ]
  },
  {
   "cell_type": "code",
   "execution_count": 28,
   "id": "fc51bed1-6dda-4690-9b0e-a6d33843fdcf",
   "metadata": {},
   "outputs": [
    {
     "name": "stdout",
     "output_type": "stream",
     "text": [
      "Student with the highest total marks: Student 6\n"
     ]
    }
   ],
   "source": [
    "# 18. Identify the student with the highest total marks\n",
    "highest_total_marks_student = total_marks_per_student.idxmax()\n",
    "print(f\"Student with the highest total marks: {highest_total_marks_student}\")"
   ]
  },
  {
   "cell_type": "code",
   "execution_count": 29,
   "id": "2a95d9ce-79f8-4d52-b552-e4524dd9b58b",
   "metadata": {},
   "outputs": [
    {
     "name": "stdout",
     "output_type": "stream",
     "text": [
      "Subject with the lowest total marks: History\n"
     ]
    }
   ],
   "source": [
    "# 19. Find the subject with the lowest total marks\n",
    "lowest_total_marks_subject = total_marks_per_subject.idxmin()\n",
    "print(f\"Subject with the lowest total marks: {lowest_total_marks_subject}\")\n"
   ]
  },
  {
   "cell_type": "code",
   "execution_count": 30,
   "id": "eed5b84f-ed52-440a-8fec-38726f8bf58a",
   "metadata": {},
   "outputs": [
    {
     "name": "stdout",
     "output_type": "stream",
     "text": [
      "Average marks scored by each student:\n",
      "Student 1    82.50\n",
      "Student 2    86.75\n",
      "Student 3    89.75\n",
      "Student 4    59.50\n",
      "Student 5    76.00\n",
      "Student 6    92.00\n",
      "Student 7    90.75\n",
      "dtype: float64\n"
     ]
    }
   ],
   "source": [
    "# 20. Compute the average marks scored by each student across all subjects\n",
    "average_marks_per_student = exam_scores.mean(axis=1)\n",
    "print(f\"Average marks scored by each student:\\n{average_marks_per_student}\")"
   ]
  },
  {
   "cell_type": "code",
   "execution_count": null,
   "id": "595dd434-d1ba-4a28-9528-2190eb58ed6d",
   "metadata": {},
   "outputs": [],
   "source": []
  }
 ],
 "metadata": {
  "kernelspec": {
   "display_name": "Python 3 (ipykernel)",
   "language": "python",
   "name": "python3"
  },
  "language_info": {
   "codemirror_mode": {
    "name": "ipython",
    "version": 3
   },
   "file_extension": ".py",
   "mimetype": "text/x-python",
   "name": "python",
   "nbconvert_exporter": "python",
   "pygments_lexer": "ipython3",
   "version": "3.13.2"
  }
 },
 "nbformat": 4,
 "nbformat_minor": 5
}
